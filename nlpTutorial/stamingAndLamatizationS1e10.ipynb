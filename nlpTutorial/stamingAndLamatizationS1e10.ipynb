{
 "cells": [
  {
   "cell_type": "code",
   "execution_count": 27,
   "metadata": {},
   "outputs": [],
   "source": [
    "from nltk.stem import PorterStemmer\n",
    "import spacy\n",
    "nlps=spacy.load(\"en_core_web_sm\")\n",
    "nlpn=PorterStemmer()"
   ]
  },
  {
   "cell_type": "markdown",
   "metadata": {},
   "source": [
    "## Exercise1:\n",
    "\n",
    "Convert these list of words into base form using Stemming and Lemmatization and observe the transformations\n",
    "Write a short note on the words that have different base words using stemming and Lemmatization"
   ]
  },
  {
   "cell_type": "code",
   "execution_count": 28,
   "metadata": {},
   "outputs": [],
   "source": [
    "lst_words = ['running', 'painting', 'walking', 'dressing', 'likely', 'children', 'whom', 'good', 'ate', 'fishing']"
   ]
  },
  {
   "cell_type": "markdown",
   "metadata": {},
   "source": [
    "using nltk"
   ]
  },
  {
   "cell_type": "code",
   "execution_count": 29,
   "metadata": {},
   "outputs": [
    {
     "name": "stdout",
     "output_type": "stream",
     "text": [
      "running | run\n",
      "painting | paint\n",
      "walking | walk\n",
      "dressing | dress\n",
      "likely | like\n",
      "children | children\n",
      "whom | whom\n",
      "good | good\n",
      "ate | ate\n",
      "fishing | fish\n"
     ]
    }
   ],
   "source": [
    "for t in lst_words:\n",
    "    print(f\"{t} | {nlpn.stem(t)}\")"
   ]
  },
  {
   "cell_type": "markdown",
   "metadata": {},
   "source": [
    "using spacy"
   ]
  },
  {
   "cell_type": "code",
   "execution_count": 30,
   "metadata": {},
   "outputs": [
    {
     "name": "stdout",
     "output_type": "stream",
     "text": [
      "running | run\n",
      "painting | paint\n",
      "walking | walk\n",
      "dressing | dress\n",
      "likely | likely\n",
      "children | child\n",
      "whom | whom\n",
      "good | good\n",
      "ate | eat\n",
      "fishing | fishing\n"
     ]
    }
   ],
   "source": [
    "s=\" \".join(lst_words)\n",
    "word=nlps(s)\n",
    "for t in word:\n",
    "    print(f\"{t} | {(t.lemma_)}\")"
   ]
  },
  {
   "cell_type": "markdown",
   "metadata": {},
   "source": [
    "i think spacy is batter for now"
   ]
  },
  {
   "cell_type": "markdown",
   "metadata": {},
   "source": [
    "\n",
    "## Exercise2:\n",
    "\n",
    "convert the given text into it's base form using both stemming and lemmatization"
   ]
  },
  {
   "cell_type": "code",
   "execution_count": 31,
   "metadata": {},
   "outputs": [
    {
     "name": "stderr",
     "output_type": "stream",
     "text": [
      "[nltk_data] Downloading package punkt to\n",
      "[nltk_data]     C:\\Users\\baps\\AppData\\Roaming\\nltk_data...\n",
      "[nltk_data]   Package punkt is already up-to-date!\n"
     ]
    },
    {
     "data": {
      "text/plain": [
       "True"
      ]
     },
     "execution_count": 31,
     "metadata": {},
     "output_type": "execute_result"
    }
   ],
   "source": [
    "import nltk\n",
    "nltk.download('punkt')"
   ]
  },
  {
   "cell_type": "code",
   "execution_count": 32,
   "metadata": {},
   "outputs": [],
   "source": [
    "from nltk.tokenize import word_tokenize"
   ]
  },
  {
   "cell_type": "markdown",
   "metadata": {},
   "source": [
    "using nltk"
   ]
  },
  {
   "cell_type": "code",
   "execution_count": 40,
   "metadata": {},
   "outputs": [
    {
     "name": "stdout",
     "output_type": "stream",
     "text": [
      "latha is veri multi talent girl.sh is good at mani skill like danc , run , sing , playing.sh also like eat pav bhagi . she ha a habit of fish and swim too.besid all thi , she is a wonder at cook too .\n"
     ]
    }
   ],
   "source": [
    "\n",
    "text = \"\"\"Latha is very multi talented girl.She is good at many skills like dancing, running, singing, playing.She also likes eating Pav Bhagi. she has a \n",
    "habit of fishing and swimming too.Besides all this, she is a wonderful at cooking too.\n",
    "\"\"\"\n",
    "text_arr=[]\n",
    "doc2=word_tokenize(text)\n",
    "for t in doc2:\n",
    "    text_arr.append(nlpn.stem(t))\n",
    "print(\" \".join(text_arr))"
   ]
  },
  {
   "cell_type": "markdown",
   "metadata": {},
   "source": [
    "using nltk"
   ]
  },
  {
   "cell_type": "code",
   "execution_count": 41,
   "metadata": {},
   "outputs": [
    {
     "name": "stdout",
     "output_type": "stream",
     "text": [
      "Latha\n",
      "Latha\n",
      "be\n",
      "very\n",
      "multi\n",
      "talented\n",
      "girl\n",
      ".\n",
      "she\n",
      "be\n",
      "good\n",
      "at\n",
      "many\n",
      "skill\n",
      "like\n",
      "dancing\n",
      ",\n",
      "running\n",
      ",\n",
      "singing\n",
      ",\n",
      "play\n",
      ".\n",
      "she\n",
      "also\n",
      "like\n",
      "eat\n",
      "Pav\n",
      "Bhagi\n",
      ".\n",
      "she\n",
      "have\n",
      "a\n",
      "\n",
      "\n",
      "habit\n",
      "of\n",
      "fishing\n",
      "and\n",
      "swim\n",
      "too\n",
      ".\n",
      "besides\n",
      "all\n",
      "this\n",
      ",\n",
      "she\n",
      "be\n",
      "a\n",
      "wonderful\n",
      "at\n",
      "cook\n",
      "too\n",
      ".\n",
      "\n",
      "\n",
      "Latha be very multi talented girl . she be good at many skill like dancing , running , singing , play . she also like eat Pav Bhagi . she have a \n",
      " habit of fishing and swim too . besides all this , she be a wonderful at cook too . \n",
      "\n"
     ]
    }
   ],
   "source": [
    "text_arr2=[]\n",
    "doc2=nlps(text)\n",
    "print(doc2[0].lemma_)\n",
    "for t in doc2:\n",
    "    print(t.lemma_)\n",
    "    text_arr2.append(t.lemma_)\n",
    "print(\" \".join(text_arr2))"
   ]
  }
 ],
 "metadata": {
  "kernelspec": {
   "display_name": "aimlenv",
   "language": "python",
   "name": "python3"
  },
  "language_info": {
   "codemirror_mode": {
    "name": "ipython",
    "version": 3
   },
   "file_extension": ".py",
   "mimetype": "text/x-python",
   "name": "python",
   "nbconvert_exporter": "python",
   "pygments_lexer": "ipython3",
   "version": "3.12.1"
  }
 },
 "nbformat": 4,
 "nbformat_minor": 2
}
