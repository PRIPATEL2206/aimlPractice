{
 "cells": [
  {
   "cell_type": "code",
   "execution_count": 2,
   "metadata": {},
   "outputs": [],
   "source": [
    "#importing necessary libraries \n",
    "import spacy\n",
    "nlp = spacy.load(\"en_core_web_sm\")  #creating an object and loading the pre-trained model for \"English\"\n"
   ]
  },
  {
   "cell_type": "code",
   "execution_count": 3,
   "metadata": {},
   "outputs": [
    {
     "data": {
      "text/plain": [
       "[('tok2vec', <spacy.pipeline.tok2vec.Tok2Vec at 0x18bff971d30>),\n",
       " ('tagger', <spacy.pipeline.tagger.Tagger at 0x18bff9720f0>),\n",
       " ('parser', <spacy.pipeline.dep_parser.DependencyParser at 0x18bff9a18c0>),\n",
       " ('attribute_ruler',\n",
       "  <spacy.pipeline.attributeruler.AttributeRuler at 0x18bffc3c190>),\n",
       " ('lemmatizer', <spacy.lang.en.lemmatizer.EnglishLemmatizer at 0x18bff959890>),\n",
       " ('ner', <spacy.pipeline.ner.EntityRecognizer at 0x18bff9a1a10>)]"
      ]
     },
     "execution_count": 3,
     "metadata": {},
     "output_type": "execute_result"
    }
   ],
   "source": [
    "nlp.pipeline"
   ]
  },
  {
   "cell_type": "code",
   "execution_count": 4,
   "metadata": {},
   "outputs": [
    {
     "data": {
      "text/plain": [
       "['tok2vec', 'tagger', 'parser', 'attribute_ruler', 'lemmatizer', 'ner']"
      ]
     },
     "execution_count": 4,
     "metadata": {},
     "output_type": "execute_result"
    }
   ],
   "source": [
    "nlp.pipe_names"
   ]
  },
  {
   "cell_type": "markdown",
   "metadata": {},
   "source": [
    "# task 1 find proper nounes"
   ]
  },
  {
   "cell_type": "code",
   "execution_count": 5,
   "metadata": {},
   "outputs": [],
   "source": [
    "text = '''Ravi and Raju are the best friends from school days.They wanted to go for a world tour and \n",
    "visit famous cities like Paris, London, Dubai, Rome etc and also they called their another friend Mohan to take part of this world tour.\n",
    "They started their journey from Hyderabad and spent next 3 months travelling all the wonderful cities in the world and cherish a happy moments!\n",
    "'''\n",
    "\n",
    "doc=nlp(text)"
   ]
  },
  {
   "cell_type": "code",
   "execution_count": 6,
   "metadata": {},
   "outputs": [
    {
     "name": "stdout",
     "output_type": "stream",
     "text": [
      "proper none :  [Raju, Paris, London, Dubai, Rome, Mohan, Hyderabad]\n",
      "count :  7\n"
     ]
    }
   ],
   "source": [
    "proper_none=[]\n",
    "for token in doc:\n",
    "    if token.pos_==\"PROPN\":\n",
    "        proper_none.append(token)\n",
    "print(\"proper none : \",proper_none)\n",
    "print(\"count : \",len(proper_none))"
   ]
  },
  {
   "cell_type": "markdown",
   "metadata": {},
   "source": [
    "# task 2 collect comapny name"
   ]
  },
  {
   "cell_type": "code",
   "execution_count": 7,
   "metadata": {},
   "outputs": [],
   "source": [
    "text = '''The Top 5 companies in USA are Tesla, Walmart, Amazon, Microsoft, Google and the top 5 companies in \n",
    "India are Infosys, Reliance, HDFC Bank, Hindustan Unilever and Bharti Airtel'''\n",
    "\n",
    "doc2=nlp(text)"
   ]
  },
  {
   "cell_type": "code",
   "execution_count": 8,
   "metadata": {},
   "outputs": [
    {
     "name": "stdout",
     "output_type": "stream",
     "text": [
      "organization :  [Tesla, Walmart, Amazon, Microsoft, Google, Infosys, Reliance, HDFC Bank, Hindustan Unilever, Bharti]\n",
      "count :  10\n"
     ]
    }
   ],
   "source": [
    "company_name=[]\n",
    "for token in doc2.ents:\n",
    "    if token.label_==\"ORG\":\n",
    "        company_name.append(token)\n",
    "print(\"organization : \",company_name)\n",
    "print(\"count : \",len(company_name))"
   ]
  },
  {
   "cell_type": "code",
   "execution_count": 10,
   "metadata": {},
   "outputs": [
    {
     "name": "stdout",
     "output_type": "stream",
     "text": [
      "text : The         | lang_ :en         | lemma_ : the        | norm_: the        | orth_: The        | i.pos_ : DET        | prefix_ : T          | shape_ : Xxx        | : tag_ : DT         | suffix_:The       \n",
      "text : Top         | lang_ :en         | lemma_ : top        | norm_: top        | orth_: Top        | i.pos_ : ADJ        | prefix_ : T          | shape_ : Xxx        | : tag_ : JJ         | suffix_:Top       \n",
      "text : 5           | lang_ :en         | lemma_ : 5          | norm_: 5          | orth_: 5          | i.pos_ : NUM        | prefix_ : 5          | shape_ : d          | : tag_ : CD         | suffix_:5         \n",
      "text : companies   | lang_ :en         | lemma_ : company    | norm_: companies  | orth_: companies  | i.pos_ : NOUN       | prefix_ : c          | shape_ : xxxx       | : tag_ : NNS        | suffix_:ies       \n",
      "text : in          | lang_ :en         | lemma_ : in         | norm_: in         | orth_: in         | i.pos_ : ADP        | prefix_ : i          | shape_ : xx         | : tag_ : IN         | suffix_:in        \n",
      "text : USA         | lang_ :en         | lemma_ : USA        | norm_: usa        | orth_: USA        | i.pos_ : PROPN      | prefix_ : U          | shape_ : XXX        | : tag_ : NNP        | suffix_:USA       \n",
      "text : are         | lang_ :en         | lemma_ : be         | norm_: are        | orth_: are        | i.pos_ : AUX        | prefix_ : a          | shape_ : xxx        | : tag_ : VBP        | suffix_:are       \n",
      "text : Tesla       | lang_ :en         | lemma_ : Tesla      | norm_: tesla      | orth_: Tesla      | i.pos_ : PROPN      | prefix_ : T          | shape_ : Xxxxx      | : tag_ : NNP        | suffix_:sla       \n",
      "text : ,           | lang_ :en         | lemma_ : ,          | norm_: ,          | orth_: ,          | i.pos_ : PUNCT      | prefix_ : ,          | shape_ : ,          | : tag_ : ,          | suffix_:,         \n",
      "text : Walmart     | lang_ :en         | lemma_ : Walmart    | norm_: walmart    | orth_: Walmart    | i.pos_ : PROPN      | prefix_ : W          | shape_ : Xxxxx      | : tag_ : NNP        | suffix_:art       \n",
      "text : ,           | lang_ :en         | lemma_ : ,          | norm_: ,          | orth_: ,          | i.pos_ : PUNCT      | prefix_ : ,          | shape_ : ,          | : tag_ : ,          | suffix_:,         \n",
      "text : Amazon      | lang_ :en         | lemma_ : Amazon     | norm_: amazon     | orth_: Amazon     | i.pos_ : PROPN      | prefix_ : A          | shape_ : Xxxxx      | : tag_ : NNP        | suffix_:zon       \n",
      "text : ,           | lang_ :en         | lemma_ : ,          | norm_: ,          | orth_: ,          | i.pos_ : PUNCT      | prefix_ : ,          | shape_ : ,          | : tag_ : ,          | suffix_:,         \n",
      "text : Microsoft   | lang_ :en         | lemma_ : Microsoft  | norm_: microsoft  | orth_: Microsoft  | i.pos_ : PROPN      | prefix_ : M          | shape_ : Xxxxx      | : tag_ : NNP        | suffix_:oft       \n",
      "text : ,           | lang_ :en         | lemma_ : ,          | norm_: ,          | orth_: ,          | i.pos_ : PUNCT      | prefix_ : ,          | shape_ : ,          | : tag_ : ,          | suffix_:,         \n",
      "text : Google      | lang_ :en         | lemma_ : Google     | norm_: google     | orth_: Google     | i.pos_ : PROPN      | prefix_ : G          | shape_ : Xxxxx      | : tag_ : NNP        | suffix_:gle       \n",
      "text : and         | lang_ :en         | lemma_ : and        | norm_: and        | orth_: and        | i.pos_ : CCONJ      | prefix_ : a          | shape_ : xxx        | : tag_ : CC         | suffix_:and       \n",
      "text : the         | lang_ :en         | lemma_ : the        | norm_: the        | orth_: the        | i.pos_ : DET        | prefix_ : t          | shape_ : xxx        | : tag_ : DT         | suffix_:the       \n",
      "text : top         | lang_ :en         | lemma_ : top        | norm_: top        | orth_: top        | i.pos_ : ADJ        | prefix_ : t          | shape_ : xxx        | : tag_ : JJ         | suffix_:top       \n",
      "text : 5           | lang_ :en         | lemma_ : 5          | norm_: 5          | orth_: 5          | i.pos_ : NUM        | prefix_ : 5          | shape_ : d          | : tag_ : CD         | suffix_:5         \n",
      "text : companies   | lang_ :en         | lemma_ : company    | norm_: companies  | orth_: companies  | i.pos_ : NOUN       | prefix_ : c          | shape_ : xxxx       | : tag_ : NNS        | suffix_:ies       \n",
      "text : in          | lang_ :en         | lemma_ : in         | norm_: in         | orth_: in         | i.pos_ : ADP        | prefix_ : i          | shape_ : xx         | : tag_ : IN         | suffix_:in        \n",
      "text : \n",
      "           | lang_ :en         | lemma_ : \n",
      "          | norm_: \n",
      "          | orth_: \n",
      "          | i.pos_ : SPACE      | prefix_ : \n",
      "          | shape_ : \n",
      "          | : tag_ : _SP        | suffix_:\n",
      "         \n",
      "text : India       | lang_ :en         | lemma_ : India      | norm_: india      | orth_: India      | i.pos_ : PROPN      | prefix_ : I          | shape_ : Xxxxx      | : tag_ : NNP        | suffix_:dia       \n",
      "text : are         | lang_ :en         | lemma_ : be         | norm_: are        | orth_: are        | i.pos_ : AUX        | prefix_ : a          | shape_ : xxx        | : tag_ : VBP        | suffix_:are       \n",
      "text : Infosys     | lang_ :en         | lemma_ : Infosys    | norm_: infosys    | orth_: Infosys    | i.pos_ : PROPN      | prefix_ : I          | shape_ : Xxxxx      | : tag_ : NNP        | suffix_:sys       \n",
      "text : ,           | lang_ :en         | lemma_ : ,          | norm_: ,          | orth_: ,          | i.pos_ : PUNCT      | prefix_ : ,          | shape_ : ,          | : tag_ : ,          | suffix_:,         \n",
      "text : Reliance    | lang_ :en         | lemma_ : Reliance   | norm_: reliance   | orth_: Reliance   | i.pos_ : PROPN      | prefix_ : R          | shape_ : Xxxxx      | : tag_ : NNP        | suffix_:nce       \n",
      "text : ,           | lang_ :en         | lemma_ : ,          | norm_: ,          | orth_: ,          | i.pos_ : PUNCT      | prefix_ : ,          | shape_ : ,          | : tag_ : ,          | suffix_:,         \n",
      "text : HDFC        | lang_ :en         | lemma_ : HDFC       | norm_: hdfc       | orth_: HDFC       | i.pos_ : PROPN      | prefix_ : H          | shape_ : XXXX       | : tag_ : NNP        | suffix_:DFC       \n",
      "text : Bank        | lang_ :en         | lemma_ : Bank       | norm_: bank       | orth_: Bank       | i.pos_ : PROPN      | prefix_ : B          | shape_ : Xxxx       | : tag_ : NNP        | suffix_:ank       \n",
      "text : ,           | lang_ :en         | lemma_ : ,          | norm_: ,          | orth_: ,          | i.pos_ : PUNCT      | prefix_ : ,          | shape_ : ,          | : tag_ : ,          | suffix_:,         \n",
      "text : Hindustan   | lang_ :en         | lemma_ : Hindustan  | norm_: hindustan  | orth_: Hindustan  | i.pos_ : PROPN      | prefix_ : H          | shape_ : Xxxxx      | : tag_ : NNP        | suffix_:tan       \n",
      "text : Unilever    | lang_ :en         | lemma_ : Unilever   | norm_: unilever   | orth_: Unilever   | i.pos_ : PROPN      | prefix_ : U          | shape_ : Xxxxx      | : tag_ : NNP        | suffix_:ver       \n",
      "text : and         | lang_ :en         | lemma_ : and        | norm_: and        | orth_: and        | i.pos_ : CCONJ      | prefix_ : a          | shape_ : xxx        | : tag_ : CC         | suffix_:and       \n",
      "text : Bharti      | lang_ :en         | lemma_ : Bharti     | norm_: bharti     | orth_: Bharti     | i.pos_ : PROPN      | prefix_ : B          | shape_ : Xxxxx      | : tag_ : NNP        | suffix_:rti       \n",
      "text : Airtel      | lang_ :en         | lemma_ : Airtel     | norm_: airtel     | orth_: Airtel     | i.pos_ : PROPN      | prefix_ : A          | shape_ : Xxxxx      | : tag_ : NNP        | suffix_:tel       \n"
     ]
    }
   ],
   "source": [
    "for i in doc2:\n",
    "    print(\"text : {:<10}  | lang_ :{:<10} | lemma_ : {:<10} | norm_: {:<10} | orth_: {:<10} | i.pos_ : {:<10} | prefix_ : {:<10} | shape_ : {:<10} | : tag_ : {:<10} | suffix_:{:<10}\".format(i.text,i.lang_,i.lemma_,i.norm_,i.orth_,i.pos_,i.prefix_,i.shape_,i.tag_,i.suffix_))"
   ]
  },
  {
   "cell_type": "code",
   "execution_count": null,
   "metadata": {},
   "outputs": [],
   "source": []
  }
 ],
 "metadata": {
  "kernelspec": {
   "display_name": "aimlenv",
   "language": "python",
   "name": "python3"
  },
  "language_info": {
   "codemirror_mode": {
    "name": "ipython",
    "version": 3
   },
   "file_extension": ".py",
   "mimetype": "text/x-python",
   "name": "python",
   "nbconvert_exporter": "python",
   "pygments_lexer": "ipython3",
   "version": "3.12.1"
  }
 },
 "nbformat": 4,
 "nbformat_minor": 2
}
